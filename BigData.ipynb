{
  "nbformat": 4,
  "nbformat_minor": 0,
  "metadata": {
    "colab": {
      "provenance": [],
      "authorship_tag": "ABX9TyPDkaV3EIR8Y7Bu1TMWgzB8",
      "include_colab_link": true
    },
    "kernelspec": {
      "name": "python3",
      "display_name": "Python 3"
    },
    "language_info": {
      "name": "python"
    }
  },
  "cells": [
    {
      "cell_type": "markdown",
      "metadata": {
        "id": "view-in-github",
        "colab_type": "text"
      },
      "source": [
        "<a href=\"https://colab.research.google.com/github/antoinechatain/Chiffre-d-affaires-d-Adidas---Series-Temporelles/blob/main/BigData.ipynb\" target=\"_parent\"><img src=\"https://colab.research.google.com/assets/colab-badge.svg\" alt=\"Open In Colab\"/></a>"
      ]
    },
    {
      "cell_type": "code",
      "execution_count": null,
      "metadata": {
        "colab": {
          "base_uri": "https://localhost:8080/"
        },
        "id": "CYeCZTDCwJVB",
        "outputId": "83307518-c28a-42f9-ea17-52059a8ee340"
      },
      "outputs": [
        {
          "output_type": "stream",
          "name": "stdout",
          "text": [
            "Looking in indexes: https://pypi.org/simple, https://us-python.pkg.dev/colab-wheels/public/simple/\n",
            "Requirement already satisfied: pyspark in /usr/local/lib/python3.8/dist-packages (3.3.1)\n",
            "Requirement already satisfied: py4j==0.10.9.5 in /usr/local/lib/python3.8/dist-packages (from pyspark) (0.10.9.5)\n"
          ]
        }
      ],
      "source": [
        "#TP sur SPARK\n",
        "!pip install pyspark\n"
      ]
    },
    {
      "cell_type": "code",
      "source": [
        "#On instancie Spark\n",
        "from pyspark.sql import SparkSession\n",
        "spark = SparkSession.builder\\\n",
        "        .master(\"local\")\\\n",
        "        .appName(\"Colab\")\\\n",
        "        .config('spark.ui.port','4050')\\\n",
        "        .getOrCreate()"
      ],
      "metadata": {
        "id": "hi2dN5cTx1vt"
      },
      "execution_count": null,
      "outputs": []
    },
    {
      "cell_type": "code",
      "source": [
        "#On importe le fichier \n",
        "sc = spark.sparkContext\n",
        "book = sc.textFile(\"/content/book.txt\")\n",
        "book"
      ],
      "metadata": {
        "colab": {
          "base_uri": "https://localhost:8080/"
        },
        "id": "Ngv3kb5qyyye",
        "outputId": "19643a08-ae79-4b1d-9522-cad663ed2284"
      },
      "execution_count": null,
      "outputs": [
        {
          "output_type": "execute_result",
          "data": {
            "text/plain": [
              "/content/book.txt MapPartitionsRDD[1] at textFile at NativeMethodAccessorImpl.java:0"
            ]
          },
          "metadata": {},
          "execution_count": 6
        }
      ]
    },
    {
      "cell_type": "code",
      "source": [
        "#On teste les méthodes. La méthode take prend les n premiers, ici 20 car l'arguement est 20\n",
        "book.take(20)"
      ],
      "metadata": {
        "id": "L-yNPIXK0g0T"
      },
      "execution_count": null,
      "outputs": []
    },
    {
      "cell_type": "code",
      "source": [
        "# On teste les attributs \n",
        "\n",
        "book.first"
      ],
      "metadata": {
        "colab": {
          "base_uri": "https://localhost:8080/"
        },
        "id": "cy3SqsGHy1AH",
        "outputId": "da6aca13-7a3c-46c7-dd50-7f9e50a1fe1d"
      },
      "execution_count": null,
      "outputs": [
        {
          "output_type": "execute_result",
          "data": {
            "text/plain": [
              "<bound method RDD.first of /content/book.txt MapPartitionsRDD[1] at textFile at NativeMethodAccessorImpl.java:0>"
            ]
          },
          "metadata": {},
          "execution_count": 8
        }
      ]
    },
    {
      "cell_type": "code",
      "source": [
        "#D'autres attributs\n",
        "\n",
        "book.count"
      ],
      "metadata": {
        "colab": {
          "base_uri": "https://localhost:8080/"
        },
        "id": "HV88zzwPzXW5",
        "outputId": "de237ac8-aa9c-4c84-9841-2a65d8cf6c42"
      },
      "execution_count": null,
      "outputs": [
        {
          "output_type": "execute_result",
          "data": {
            "text/plain": [
              "<bound method RDD.count of /content/book.txt MapPartitionsRDD[1] at textFile at NativeMethodAccessorImpl.java:0>"
            ]
          },
          "metadata": {},
          "execution_count": 10
        }
      ]
    },
    {
      "cell_type": "code",
      "source": [
        "# On filtre les lignes selon des conditions que l'on choisit (200 est demandé)\n",
        "\n",
        "filtered = book.filter(lambda x: len(x) >= 200).collect()\n",
        "filtered\n",
        "len(filtered)"
      ],
      "metadata": {
        "id": "J3G_9RelzkWa"
      },
      "execution_count": null,
      "outputs": []
    },
    {
      "cell_type": "code",
      "source": [
        "# On utilise la méthode flatMap pour décomposer chaque ligne en mot\n",
        "\n",
        "words = book.flatMap(lambda x : x.split(\" \"))"
      ],
      "metadata": {
        "id": "v_Xxp8OXz6K7"
      },
      "execution_count": null,
      "outputs": []
    },
    {
      "cell_type": "code",
      "source": [
        "#extraction pour l'aperçu\n",
        "words.take(20)\n",
        "words_one = words.map(lambda x : (x,1))\n",
        "words_one.take(5)"
      ],
      "metadata": {
        "id": "6hE9v_y40IMh"
      },
      "execution_count": null,
      "outputs": []
    },
    {
      "cell_type": "code",
      "source": [
        "words_one = words.map(lambda x : (x,1))\n",
        "words_one.take(4)\n",
        "#On utilise la méthode ReduceByKey pour compter le nombre de fois qu'un mot apparait\n",
        "words_count = words_one.reduceByKey(lambda x,y : x+y)\n",
        "words_count"
      ],
      "metadata": {
        "id": "s6pinGnN0PXX"
      },
      "execution_count": null,
      "outputs": []
    },
    {
      "cell_type": "code",
      "source": [
        "# On filtre le le mot \"someone\"\n",
        "for (i,j) in words_count:\n",
        "  if i ==\"someone\":\n",
        "    print(i,j)\n",
        "w = words_count.filter(lambda x: x[0]==\"someone\")\n",
        "w.take(3)"
      ],
      "metadata": {
        "id": "LVTEDLhX2PLJ"
      },
      "execution_count": null,
      "outputs": []
    },
    {
      "cell_type": "code",
      "source": [
        "# On trie par le nombre de fois que le mot apparaît\n",
        "inverse = words_count.map(lambda x: (x[1],x[0]))\n",
        "sorted.map(lambda x: (x[1],x[0]))"
      ],
      "metadata": {
        "id": "gJN8etvK2cmw"
      },
      "execution_count": null,
      "outputs": []
    },
    {
      "cell_type": "code",
      "source": [
        "sorted.take(2300)"
      ],
      "metadata": {
        "id": "KlxxLKUJ2vKB"
      },
      "execution_count": null,
      "outputs": []
    },
    {
      "cell_type": "code",
      "source": [
        "#  EXERCICE Fake friends\n",
        "# Depuis le module pyspark.sql, on importe functions sous l'alias F\n",
        "\n",
        "from pyspark.sql import functions as F\n"
      ],
      "metadata": {
        "id": "8DLxOdot2505"
      },
      "execution_count": null,
      "outputs": []
    },
    {
      "cell_type": "code",
      "source": [
        "#On lit le fichier fakefriends sous le bon format\n",
        "data = spark.read.format(\"csv\").load(\"fakefriends.txt\").schema(schema)"
      ],
      "metadata": {
        "id": "z849TMLq3U-I"
      },
      "execution_count": null,
      "outputs": []
    },
    {
      "cell_type": "code",
      "source": [
        "#On regarde le type des colonnes\n",
        "type(data)"
      ],
      "metadata": {
        "id": "dx2XeawY7Kt6"
      },
      "execution_count": null,
      "outputs": []
    },
    {
      "cell_type": "code",
      "source": [
        "# On renomme maintenant les colonnes (leur en-tête)\n",
        "data_renamed= data.withColumnRenamed(\"c_1\",\"Nom\").withColumnRenamed(\"c_2\",\"Valeur 1\").withColumnRenamed(\"c_3\",\"Valeur 2\").rdd\n",
        "type(data_renamed)"
      ],
      "metadata": {
        "id": "qX_x0CNH7PKn"
      },
      "execution_count": null,
      "outputs": []
    },
    {
      "cell_type": "code",
      "source": [
        "# On instancie\n",
        "from pyspark.sql.types import StructType,StructField, StringType, IntegerType\n",
        "from pyspark.sql.types import IntegerType\n",
        "\n",
        "\n",
        "schema = StructType([ \\\n",
        "    StructField(\"Index\",StringType(),True),\\\n",
        "    StructField(\"lastName\",StringType(),True), \\\n",
        "    StructField(\"Age\",IntegerType(),True), \\\n",
        "    StructField(\"Number\",IntegerType(),True), \\\n",
        "    \n",
        "  ])\n"
      ],
      "metadata": {
        "id": "yVfeZSfn7W1y"
      },
      "execution_count": null,
      "outputs": []
    },
    {
      "cell_type": "code",
      "source": [
        "#On lit le fichier en question au bon format\n",
        "data = spark.read.format(\"csv\").schema(schema).load(\"fakefriends (1).txt\")"
      ],
      "metadata": {
        "id": "U-wDglxp7qNy"
      },
      "execution_count": null,
      "outputs": []
    },
    {
      "cell_type": "code",
      "source": [
        "#On applique des méthodes\n",
        "data.show(3)\n",
        "data.take(5);"
      ],
      "metadata": {
        "id": "YS3TlXbL7xSK"
      },
      "execution_count": null,
      "outputs": []
    },
    {
      "cell_type": "code",
      "source": [
        "#On applique des attributs\n",
        "data.count\n",
        "data.first\n",
        "data.show"
      ],
      "metadata": {
        "id": "XSjW1Bmw72dZ"
      },
      "execution_count": null,
      "outputs": []
    },
    {
      "cell_type": "code",
      "source": [
        "data.select(\"lastName\").show()"
      ],
      "metadata": {
        "id": "klikgX868GwW"
      },
      "execution_count": null,
      "outputs": []
    },
    {
      "cell_type": "code",
      "source": [
        "#REPONSES AUX QUESTIONS\n",
        "# 1) Combien de personnes ont 34 ans ?\n",
        "#A l'aide d'une requete SQL\n",
        "data.createOrReplaceTempView(\"friendsTable\")\n",
        "spark.sql(\"SELECT * FROM friendsTable\").show(5)\n",
        "spark.sql(\"SELECT * FROM friendsTable WHERE age = 34\").show()"
      ],
      "metadata": {
        "id": "ZJJ1N5fx8L0Q"
      },
      "execution_count": null,
      "outputs": []
    },
    {
      "cell_type": "code",
      "source": [
        "# 2) Faire un df avec le nombre d'amis total par nom\n",
        "#Encore une fois, grâce au SQL\n",
        "DF_nbre_amis = spark.sql(\"SELECT lastName, sum(Number) FROM friendsTable group by lastName\") \n",
        "type(DF_nbre_amis)\n",
        "data.createOrReplaceTempView(\"friendsTableTotal\")\n",
        "nbre = spark.sql(\"select mean(Number) FROM friendsTableTotal where age=34\").collect()\n",
        "nbre"
      ],
      "metadata": {
        "id": "Epk2fOkK8VIb"
      },
      "execution_count": null,
      "outputs": []
    },
    {
      "cell_type": "code",
      "source": [
        "#TP KMEANS\n",
        "#On importe SparkSession du module pyspark.sql\n",
        "from pyspark.sql import SparkSession\n",
        "\n",
        "spark = SparkSession.builder.master(\"local[*]\") \\\n",
        "            \t.appName(\"tp\") \\\n",
        "            \t.getOrCreate()"
      ],
      "metadata": {
        "id": "YjD-D5O78goZ"
      },
      "execution_count": null,
      "outputs": []
    },
    {
      "cell_type": "code",
      "source": [
        "#On lit le fichier avec les bonnes options\n",
        "coordinate = spark.read.format(\"csv\").option(\"header\", value = True).option(\"delimiter\",\";\").option(\"inferSchema\",True).load(\"simple_data_Kmeans.csv\")"
      ],
      "metadata": {
        "id": "EX2eEATO84dW"
      },
      "execution_count": null,
      "outputs": []
    },
    {
      "cell_type": "code",
      "source": [
        "#On applique des méthodes\n",
        "coordinate.printSchema\n",
        "coordinate.show(10)\n",
        "coordinate.first()\n"
      ],
      "metadata": {
        "id": "si62pwds9AMh"
      },
      "execution_count": null,
      "outputs": []
    },
    {
      "cell_type": "code",
      "source": [
        "#On crée les nuages de points\n",
        "#On importe le module suivant\n",
        "\n",
        "import matplotlib.pyplot as plt\n",
        "\n",
        "coordinate.toPandas().plot.scatter(x='X',y='Y')\n",
        "plt.plot()\n",
        "\n",
        "\n",
        "from pyspark.ml.feature import VectorAssembler\n",
        "\n",
        "assembler = VectorAssembler().setInputCols([\"X\",\"Y\"]).setOutputCol(\"features\")\n",
        "coordinate_prepared = assembler.transform(coordinate)\n",
        "coordinate_prepared.printSchema()\n",
        "coordinate_prepared.show(5)"
      ],
      "metadata": {
        "id": "H-WWAnXx9Els"
      },
      "execution_count": null,
      "outputs": []
    },
    {
      "cell_type": "code",
      "source": [
        "#On divise le dataset en vue du machine learning\n",
        "training_set,test_set = coordinate_prepared.randomSplit([0.8, 0.2])"
      ],
      "metadata": {
        "id": "Ixm8tNyE-ddN"
      },
      "execution_count": null,
      "outputs": []
    },
    {
      "cell_type": "code",
      "source": [
        "#On exécute l'algorithme du K-means (cluster)\n",
        "#On importe KMeans\n",
        "from pyspark.ml.clustering import KMeans\n",
        "kmeans = KMeans().setK(3).setFeaturesCol(\"features\").setPredictionCol(\"prediction\")"
      ],
      "metadata": {
        "id": "As64KrRR-ham"
      },
      "execution_count": null,
      "outputs": []
    },
    {
      "cell_type": "code",
      "source": [
        "kmeans_3_model = kmeans.fit(training_set) # entrainement\n",
        "kmeans_3_model.clusterCenters() # resultats"
      ],
      "metadata": {
        "id": "wU1c9rSN-wzw"
      },
      "execution_count": null,
      "outputs": []
    },
    {
      "cell_type": "code",
      "source": [
        "#On le trace (avec les options de couleur, de forme que l'on souhaite)\n",
        "import matplotlib.pyplot as plt\n",
        "coordinate.toPandas().plot.scatter(x='X',y='Y')\n",
        "for element in kmeans_3_model.clusterCenters():\n",
        "\tplt.plot([element[0]],[element[1]], marker='*', markerfacecolor='orange', ls='none', ms=20)\n",
        "plt.show()"
      ],
      "metadata": {
        "id": "zZrhdB4a-xk9"
      },
      "execution_count": null,
      "outputs": []
    },
    {
      "cell_type": "code",
      "source": [
        "#On regarde l'efficacité du modèle\n",
        "from pyspark.ml.evaluation import ClusteringEvaluator\n",
        "predictions = kmeans_3_model.transform(training_set)\n",
        "evaluator = ClusteringEvaluator()\n",
        "evaluator.evaluate(predictions) # -1<evaluator.evaluate(predictions)<1"
      ],
      "metadata": {
        "id": "b9bMFKFG-9mQ"
      },
      "execution_count": null,
      "outputs": []
    },
    {
      "cell_type": "code",
      "source": [
        "prediction = kmeans_3_model.transform(test_set)\n",
        "prediction.show(100)\n",
        "prediction.groupBy(\"prediction\").count().show()"
      ],
      "metadata": {
        "id": "1FSkdL2q_JqR"
      },
      "execution_count": null,
      "outputs": []
    },
    {
      "cell_type": "code",
      "source": [
        "from pyspark.ml.clustering import KMeansModel\n",
        "kmeans_model_loaded = KMeansModel.load(\"/home/ia/ spark_files /first-model\") //Importer"
      ],
      "metadata": {
        "id": "UB_xL68M_MTD"
      },
      "execution_count": null,
      "outputs": []
    },
    {
      "cell_type": "code",
      "source": [
        "# Exercice 1\n",
        "\n",
        "age = 23\n",
        "name = \"Antoine\"\n",
        "size = 1,73\n",
        "\n",
        "\n",
        "\n",
        "print(\"bonjour je m'appelle\", name, \" j'ai \",age,\" ans et je fais\", size, \"m\" )"
      ],
      "metadata": {
        "colab": {
          "base_uri": "https://localhost:8080/"
        },
        "id": "GOXp45niAoiI",
        "outputId": "3e100d7f-1b21-457e-e01b-7ac46b17e988"
      },
      "execution_count": null,
      "outputs": [
        {
          "output_type": "stream",
          "name": "stdout",
          "text": [
            "bonjour je m'appelle Antoine  j'ai  23  ans et je fais (1, 73) m\n"
          ]
        }
      ]
    },
    {
      "cell_type": "code",
      "source": [
        "import sys\n",
        "size_name = sys.getsizeof(name)\n",
        "size_name"
      ],
      "metadata": {
        "id": "4C2IXLh4BGFw"
      },
      "execution_count": null,
      "outputs": []
    },
    {
      "cell_type": "code",
      "source": [
        "new_var= str(age)+name\n",
        "new_var"
      ],
      "metadata": {
        "id": "jZvLa0OTBMuG"
      },
      "execution_count": null,
      "outputs": []
    },
    {
      "cell_type": "code",
      "source": [
        "sys.getsizeof(new_var)"
      ],
      "metadata": {
        "id": "-ke8NDBkBRjZ"
      },
      "execution_count": null,
      "outputs": []
    },
    {
      "cell_type": "code",
      "source": [
        "#Comparaison\n",
        "size_age = sys.getsizeof(age)\n",
        "size_taille = sys.getsizeof(size)\n",
        "if size_age < size_taille:\n",
        "  print(\"taille plus grand age\")\n",
        "else:\n",
        "  print(\"age plus grand que taille\")"
      ],
      "metadata": {
        "id": "vCN1tMGCBtnc"
      },
      "execution_count": null,
      "outputs": []
    },
    {
      "cell_type": "code",
      "source": [
        "#Comparaison\n",
        "student =True\n",
        "size_age = sys.getsizeof(age)\n",
        "size_student = sys.getsizeof(student)\n",
        "if size_age < size_student:\n",
        "  print(\"student plus grand age\")\n",
        "else:\n",
        "  print(\"age plus grand que student\")"
      ],
      "metadata": {
        "id": "zuwEmvdTBwV9"
      },
      "execution_count": null,
      "outputs": []
    },
    {
      "cell_type": "code",
      "source": [
        "# Exercice 2:\n",
        "\n",
        "class Person:\n",
        "  \n",
        "  def __init__(self, first_name, last_name):\n",
        "      self.first_name = first_name\n",
        "      self.last_name = last_name\n",
        "\n",
        "  \n",
        "def move(self):\n",
        "    return f\"{self.first_name} is moving...\""
      ],
      "metadata": {
        "id": "2MJCLU_KCNuL"
      },
      "execution_count": null,
      "outputs": []
    },
    {
      "cell_type": "code",
      "source": [
        "personne = Person(\"Antoine\",\"Chatain\")"
      ],
      "metadata": {
        "id": "ebqsi_wZCX6_"
      },
      "execution_count": null,
      "outputs": []
    },
    {
      "cell_type": "code",
      "source": [
        "class Student:\n",
        "\n",
        "  def __init__(self, Person, school_year, class_year):\n",
        "      self.Person = Person\n",
        "      self.school_year = school_year\n",
        "      self.class_year = class_year"
      ],
      "metadata": {
        "id": "KIguOpnd2ATi"
      },
      "execution_count": null,
      "outputs": []
    },
    {
      "cell_type": "code",
      "source": [
        "first_student = Student(Person(\"Antoine\",\"Chatain\"), 7, 8)"
      ],
      "metadata": {
        "id": "Rg2U4l4X2EzE"
      },
      "execution_count": null,
      "outputs": []
    },
    {
      "cell_type": "code",
      "source": [
        "#On importe le module re\n",
        "import re\n",
        "#On crée une classe\n",
        "class mail: \n",
        "  def __init__(self, email, is_confirmed):\n",
        "      self.email = email\n",
        "      self.is_confirmed = is_confirmed\n",
        "    \n",
        "  def extraction(self):\n",
        "    partie_mail = self.email.split(\"@\",2)\n",
        "    print(partie_mail[1])"
      ],
      "metadata": {
        "id": "LrsXrX4V2PX4"
      },
      "execution_count": null,
      "outputs": []
    },
    {
      "cell_type": "code",
      "source": [
        "first_mail = mail(\"chatainant@gmail.com\", True)\n",
        "first_mail.extraction()"
      ],
      "metadata": {
        "id": "Qku8Idte5ZnW"
      },
      "execution_count": null,
      "outputs": []
    },
    {
      "cell_type": "code",
      "source": [
        "# On ajoute la personne ABC\n",
        "\n",
        "from abc import ABC\n",
        "\n",
        "class Person(ABC):\n",
        "  \n",
        "  \n",
        "  def __init__(self, email,first_name, last_name):\n",
        "      self.email = mail.email\n",
        "      self.first_name = first_name\n",
        "      self.last_name = last_name"
      ],
      "metadata": {
        "id": "UdoI2uFb5csr"
      },
      "execution_count": null,
      "outputs": []
    },
    {
      "cell_type": "code",
      "source": [
        "# Exercice 3 :\n",
        "\n",
        "#On import numpy\n",
        "\n",
        "import numpy as np \n"
      ],
      "metadata": {
        "id": "SCnogFTy5ij8"
      },
      "execution_count": null,
      "outputs": []
    },
    {
      "cell_type": "code",
      "source": [
        "#Création d'un vecteur\n",
        "vect1 = np.zeros(10)"
      ],
      "metadata": {
        "id": "79g7LQee5Plh"
      },
      "execution_count": null,
      "outputs": []
    },
    {
      "cell_type": "code",
      "source": [
        "#On utilise un attribut\n",
        "vect1.shape"
      ],
      "metadata": {
        "id": "ew9XTuAI6BdP"
      },
      "execution_count": null,
      "outputs": []
    },
    {
      "cell_type": "code",
      "source": [
        "#On rentre une valeur\n",
        "vect1[4] = 5"
      ],
      "metadata": {
        "id": "2Pl-19ZO6Lvk"
      },
      "execution_count": null,
      "outputs": []
    },
    {
      "cell_type": "code",
      "source": [
        "vect1_reverse = vect1[::-1]"
      ],
      "metadata": {
        "id": "CQTzDNUe6Szx"
      },
      "execution_count": null,
      "outputs": []
    },
    {
      "cell_type": "code",
      "source": [
        "vect1_deleted = np.delete(vect1,len(vect1)-1)\n",
        "vect1_deleted"
      ],
      "metadata": {
        "id": "KKb1ucnz6ZCT"
      },
      "execution_count": null,
      "outputs": []
    },
    {
      "cell_type": "code",
      "source": [
        "#On crée une matrice\n",
        "matrice = np.reshape(vect1_deleted,(3,3))\n",
        "matrice"
      ],
      "metadata": {
        "id": "gdVnO42n6cCB"
      },
      "execution_count": null,
      "outputs": []
    },
    {
      "cell_type": "code",
      "source": [
        "#On rentre une valeur\n",
        "matrice[2,2] = 9"
      ],
      "metadata": {
        "id": "flkAeVTd6jxH"
      },
      "execution_count": null,
      "outputs": []
    },
    {
      "cell_type": "code",
      "source": [
        "#On utilise des méthodes\n",
        "matrice.max()\n",
        "matrice.min()\n",
        "matrice.mean()\n",
        "matrice.var()"
      ],
      "metadata": {
        "id": "DtOIxvq76tCI"
      },
      "execution_count": null,
      "outputs": []
    }
  ]
}